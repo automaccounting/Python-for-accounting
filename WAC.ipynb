{
 "cells": [
  {
   "cell_type": "code",
   "execution_count": 1,
   "id": "9ad1517f",
   "metadata": {},
   "outputs": [],
   "source": [
    "import pandas as pd\n",
    "\n",
    "wac_df = pd.read_excel(r'C:\\Users\\Davide\\Desktop\\Python for Accounting workspace\\cmp.xlsx', skiprows=4)\n",
    "\n",
    "wac_df.head()\n",
    "\n",
    "pvt = pd.pivot_table(wac_df,\n",
    "               index= ['REF.', 'DESC.REF.'], \n",
    "               values=['QUAN','SUM TOT'],\n",
    "               aggfunc='sum')\n",
    "\n",
    "pvt['WAC'] = pvt['SUM TOT']/pvt['QUAN']\n",
    "\n",
    "pvt['QUAN'] = pvt['QUAN'].apply(lambda x: f'{x:,}')"
   ]
  },
  {
   "cell_type": "code",
   "execution_count": null,
   "id": "566f0be3",
   "metadata": {},
   "outputs": [],
   "source": []
  },
  {
   "cell_type": "code",
   "execution_count": null,
   "id": "2b4fdb0d",
   "metadata": {},
   "outputs": [],
   "source": []
  },
  {
   "cell_type": "code",
   "execution_count": null,
   "id": "5eb61136",
   "metadata": {},
   "outputs": [],
   "source": []
  },
  {
   "cell_type": "code",
   "execution_count": null,
   "id": "0e86426a",
   "metadata": {},
   "outputs": [],
   "source": []
  }
 ],
 "metadata": {
  "kernelspec": {
   "display_name": "Python 3 (ipykernel)",
   "language": "python",
   "name": "python3"
  },
  "language_info": {
   "codemirror_mode": {
    "name": "ipython",
    "version": 3
   },
   "file_extension": ".py",
   "mimetype": "text/x-python",
   "name": "python",
   "nbconvert_exporter": "python",
   "pygments_lexer": "ipython3",
   "version": "3.10.9"
  }
 },
 "nbformat": 4,
 "nbformat_minor": 5
}
