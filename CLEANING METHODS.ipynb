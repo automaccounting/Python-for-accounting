
    "# cleaning data methods\n",
    "\n",
    "#-missing values, how to find them\n",
    "\n",
    "data_df['REF.'].isna()\n",
    "\n",
    "data_df[data_df['REF.'].isna()]\n",
    "\n",
    "data_df['REF.'].isna().sum()\n",
    "\n",
    "data_df.isna().sum()\n",
    "\n",
    "\n",
    "# -missing values, how to get rid of them\n",
    "\n",
    "data_df[data_df['REF.'].notna()]\n",
    "\n",
    "~data_df[data_df['REF.'].isna()]\n",
    "\n",
    "data_df.dropna() #null values\n",
    "\n",
    "data_df.dropna(subset=['REF.', 'REF.Code'])\n",
    "\n",
    "data_df.dropna(how='all')\n",
    "\n",
    "data_df.dropna(how='any', axis='columns')\n",
    "\n",
    "\n",
    "# -missing values, how to fill \n",
    "\n",
    "data_df['REF.'].fillna('MISSING')\n",
    "\n",
    "data_df['REF.'].fillna(method='ffill')\n",
    "\n",
    "data_df['REF.'].fillna(method='bfill')\n",
    "\n",
    "\n",
    "# -missing values, how to fill with data from another dataframe\n",
    "\n",
    "data_df1 = data_df1.set_index('REF.')\n",
    "\n",
    "data_df2 = data_df2.set_index('REF.')\n",
    "\n",
    "data_df1 = data_df1.fillna(data_df2)\n"
   ]
  },
  {
   "cell_type": "code",
   "execution_count": null,
   "id": "f8fda679",
   "metadata": {},
   "outputs": [],
   "source": []
  }
 ],
 "metadata": {
  "kernelspec": {
   "display_name": "Python 3 (ipykernel)",
   "language": "python",
   "name": "python3"
  },
  "language_info": {
   "codemirror_mode": {
    "name": "ipython",
    "version": 3
   },
   "file_extension": ".py",
   "mimetype": "text/x-python",
   "name": "python",
   "nbconvert_exporter": "python",
   "pygments_lexer": "ipython3",
   "version": "3.10.9"
  }
 },
 "nbformat": 4,
 "nbformat_minor": 5
}
