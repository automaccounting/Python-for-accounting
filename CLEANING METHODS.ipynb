{
 "cells": [
  {
   "cell_type": "code",
   "execution_count": 1,
   "id": "6490d2bd",
   "metadata": {},
   "outputs": [
    {
     "ename": "NameError",
     "evalue": "name 'data_df' is not defined",
     "output_type": "error",
     "traceback": [
      "\u001b[1;31m---------------------------------------------------------------------------\u001b[0m",
      "\u001b[1;31mNameError\u001b[0m                                 Traceback (most recent call last)",
      "Cell \u001b[1;32mIn[1], line 5\u001b[0m\n\u001b[0;32m      1\u001b[0m \u001b[38;5;66;03m# cleaning data methods\u001b[39;00m\n\u001b[0;32m      2\u001b[0m \n\u001b[0;32m      3\u001b[0m \u001b[38;5;66;03m#-missing values, how to find them\u001b[39;00m\n\u001b[1;32m----> 5\u001b[0m \u001b[43mdata_df\u001b[49m[\u001b[38;5;124m'\u001b[39m\u001b[38;5;124mREF.\u001b[39m\u001b[38;5;124m'\u001b[39m]\u001b[38;5;241m.\u001b[39misna()\n\u001b[0;32m      7\u001b[0m data_df[data_df[\u001b[38;5;124m'\u001b[39m\u001b[38;5;124mREF.\u001b[39m\u001b[38;5;124m'\u001b[39m]\u001b[38;5;241m.\u001b[39misna()]\n\u001b[0;32m      9\u001b[0m data_df[\u001b[38;5;124m'\u001b[39m\u001b[38;5;124mREF.\u001b[39m\u001b[38;5;124m'\u001b[39m]\u001b[38;5;241m.\u001b[39misna()\u001b[38;5;241m.\u001b[39msum()\n",
      "\u001b[1;31mNameError\u001b[0m: name 'data_df' is not defined"
     ]
    }
   ],
   "source": [
    "# cleaning data methods\n",
    "\n",
    "#-missing values, how to find them\n",
    "\n",
    "data_df['REF.'].isna()\n",
    "\n",
    "data_df[data_df['REF.'].isna()]\n",
    "\n",
    "data_df['REF.'].isna().sum()\n",
    "\n",
    "data_df.isna().sum()\n",
    "\n",
    "\n",
    "# -missing values, how to get rid of them\n",
    "\n",
    "data_df[data_df['REF.'].notna()]\n",
    "\n",
    "~data_df[data_df['REF.'].isna()]\n",
    "\n",
    "data_df.dropna() #null values\n",
    "\n",
    "data_df.dropna(subset=['REF.', 'REF.Code'])\n",
    "\n",
    "data_df.dropna(how='all')\n",
    "\n",
    "data_df.dropna(how='any', axis='columns')\n",
    "\n",
    "\n",
    "# -missing values, how to fill \n",
    "\n",
    "data_df['REF.'].fillna('MISSING')\n",
    "\n",
    "data_df['REF.'].fillna(method='ffill')\n",
    "\n",
    "data_df['REF.'].fillna(method='bfill')\n",
    "\n",
    "\n",
    "# -missing values, how to fill with data from another dataframe\n",
    "\n",
    "data_df1 = data_df1.set_index('REF.')\n",
    "\n",
    "data_df2 = data_df2.set_index('REF.')\n",
    "\n",
    "data_df1 = data_df1.fillna(data_df2)\n"
   ]
  },
  {
   "cell_type": "code",
   "execution_count": null,
   "id": "f8fda679",
   "metadata": {},
   "outputs": [],
   "source": []
  }
 ],
 "metadata": {
  "kernelspec": {
   "display_name": "Python 3 (ipykernel)",
   "language": "python",
   "name": "python3"
  },
  "language_info": {
   "codemirror_mode": {
    "name": "ipython",
    "version": 3
   },
   "file_extension": ".py",
   "mimetype": "text/x-python",
   "name": "python",
   "nbconvert_exporter": "python",
   "pygments_lexer": "ipython3",
   "version": "3.10.9"
  }
 },
 "nbformat": 4,
 "nbformat_minor": 5
}
